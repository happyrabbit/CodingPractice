{
  "nbformat": 4,
  "nbformat_minor": 0,
  "metadata": {
    "colab": {
      "name": "0021_0003Longest Substring Without Repeating Characters.ipynb",
      "provenance": [],
      "authorship_tag": "ABX9TyNsb9dGqkiW+OBqAyGUVVPO",
      "include_colab_link": true
    },
    "kernelspec": {
      "name": "python3",
      "display_name": "Python 3"
    },
    "language_info": {
      "name": "python"
    }
  },
  "cells": [
    {
      "cell_type": "markdown",
      "metadata": {
        "id": "view-in-github",
        "colab_type": "text"
      },
      "source": [
        "<a href=\"https://colab.research.google.com/github/happyrabbit/CodingPractice/blob/main/Leetcode/0021_0003Longest_Substring_Without_Repeating_Characters.ipynb\" target=\"_parent\"><img src=\"https://colab.research.google.com/assets/colab-badge.svg\" alt=\"Open In Colab\"/></a>"
      ]
    },
    {
      "cell_type": "markdown",
      "source": [
        "# Longest Substring Without Repeating Characters\n",
        "\n",
        "Given a string s, find the length of the **longest substring** without repeating characters.\n",
        "\n",
        "Example 1:\n",
        "```\n",
        "Input: s = \"abcabcbb\"\n",
        "Output: 3\n",
        "Explanation: The answer is \"abc\", with the length of 3.\n",
        "```\n",
        "\n",
        "Example 2:\n",
        "```\n",
        "Input: s = \"bbbbb\"\n",
        "Output: 1\n",
        "Explanation: The answer is \"b\", with the length of 1.\n",
        "```\n",
        "Example 3:\n",
        "```\n",
        "Input: s = \"pwwkew\"\n",
        "Output: 3\n",
        "Explanation: The answer is \"wke\", with the length of 3.\n",
        "Notice that the answer must be a substring, \"pwke\" is a subsequence and not a substring.\n",
        "```"
      ],
      "metadata": {
        "id": "r_QFSHkmhnyv"
      }
    },
    {
      "cell_type": "code",
      "execution_count": 1,
      "metadata": {
        "id": "2hp8qVJ8hh1T"
      },
      "outputs": [],
      "source": [
        "class Solution:\n",
        "    def lengthOfLongestSubstring(self, s: str) -> int:\n",
        "        if len(s) == 0:\n",
        "            return(0)\n",
        "        if len(s) == 1:\n",
        "            return(1)\n",
        "        # track the start and end the current substring\n",
        "        start = 0\n",
        "        end = 1\n",
        "        maxlen = 1 # keep track of the maximum length so far\n",
        "        clen = 1 # keep track of the current string length\n",
        "        for end in range(1, len(s)):\n",
        "            # check if the next character is in the current substring\n",
        "            strs = s[start:end]\n",
        "            if s[end] not in strs:\n",
        "                clen += 1\n",
        "                if clen > maxlen:\n",
        "                    maxlen = clen\n",
        "            else:\n",
        "                for i in range(1,len(strs)+1):\n",
        "                    if (strs[-i] == s[end]):\n",
        "                        start += len(strs) - i + 1\n",
        "                        clen = i\n",
        "        return(maxlen)"
      ]
    },
    {
      "cell_type": "code",
      "source": [
        ""
      ],
      "metadata": {
        "id": "X6A7xL0Xgf9Z"
      },
      "execution_count": null,
      "outputs": []
    }
  ]
}