{
  "nbformat": 4,
  "nbformat_minor": 0,
  "metadata": {
    "colab": {
      "name": "176Second Highest Salary",
      "provenance": [],
      "authorship_tag": "ABX9TyP+Vm+HDaadQEADVQG7woH9",
      "include_colab_link": true
    },
    "kernelspec": {
      "name": "python3",
      "display_name": "Python 3"
    },
    "language_info": {
      "name": "python"
    }
  },
  "cells": [
    {
      "cell_type": "markdown",
      "metadata": {
        "id": "view-in-github",
        "colab_type": "text"
      },
      "source": [
        "<a href=\"https://colab.research.google.com/github/happyrabbit/CodingPractice/blob/main/sql/176Second_Highest_Salary.ipynb\" target=\"_parent\"><img src=\"https://colab.research.google.com/assets/colab-badge.svg\" alt=\"Open In Colab\"/></a>"
      ]
    },
    {
      "cell_type": "markdown",
      "source": [
        "\n",
        "Table: `Employee`\n",
        "\n",
        "```\n",
        "+-------------+------+\n",
        "| Column Name | Type |\n",
        "+-------------+------+\n",
        "| id          | int  |\n",
        "| salary      | int  |\n",
        "+-------------+------+\n",
        "id is the primary key column for this table.\n",
        "Each row of this table contains information about the salary of an employee.\n",
        "```\n",
        "\n",
        "Write an SQL query to report the second highest salary from the Employee table. If there is no second highest salary, the query should report null.\n",
        "\n",
        "The query result format is in the following example.\n",
        "\n",
        "Example 1:\n",
        "\n",
        "```\n",
        "Input: \n",
        "Employee table:\n",
        "+----+--------+\n",
        "| id | salary |\n",
        "+----+--------+\n",
        "| 1  | 100    |\n",
        "| 2  | 200    |\n",
        "| 3  | 300    |\n",
        "+----+--------+\n",
        "Output: \n",
        "+---------------------+\n",
        "| SecondHighestSalary |\n",
        "+---------------------+\n",
        "| 200                 |\n",
        "+---------------------+\n",
        "```\n",
        "\n",
        "Example 2:\n",
        "\n",
        "```\n",
        "Input: \n",
        "Employee table:\n",
        "+----+--------+\n",
        "| id | salary |\n",
        "+----+--------+\n",
        "| 1  | 100    |\n",
        "+----+--------+\n",
        "Output: \n",
        "+---------------------+\n",
        "| SecondHighestSalary |\n",
        "+---------------------+\n",
        "| null                |\n",
        "+---------------------+\n",
        "```\n"
      ],
      "metadata": {
        "id": "PrvQCz90kjTX"
      }
    },
    {
      "cell_type": "code",
      "execution_count": null,
      "metadata": {
        "id": "ozgpEU0lkOtT"
      },
      "outputs": [],
      "source": [
        "# Write your MySQL query statement below\n",
        "select (select distinct salary \n",
        "from Employee \n",
        "order by salary desc\n",
        "limit 1 offset 1) as SecondHighestSalary  \n",
        "\n",
        "-- select max(salary) as SecondHighestSalary\n",
        "-- from employee\n",
        "-- where salary <> (select max(salary) from employee)"
      ]
    }
  ]
}